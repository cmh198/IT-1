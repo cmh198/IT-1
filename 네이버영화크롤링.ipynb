{
 "cells": [
  {
   "cell_type": "code",
   "execution_count": 3,
   "metadata": {},
   "outputs": [],
   "source": [
    "from selenium import webdriver\n",
    "import time\n",
    "import pandas as pd\n",
    "from tqdm.notebook import tqdm\n",
    "from selenium.common.exceptions import NoSuchElementException, ElementNotInteractableException\n",
    "from selenium import webdriver\n",
    "from selenium.webdriver.common.by import By"
   ]
  },
  {
   "cell_type": "code",
   "execution_count": 4,
   "metadata": {},
   "outputs": [],
   "source": [
    "options = webdriver.ChromeOptions()\n",
    "options.add_argument('headless')    # 웹 브라우저를 띄우지 않는 headless chrome 옵션 적용\n",
    "options.add_argument('disable-gpu')    # GPU 사용 안함\n",
    "options.add_argument('lang=ko_KR')    # 언어 설정, options=options"
   ]
  },
  {
   "cell_type": "code",
   "execution_count": 6,
   "metadata": {},
   "outputs": [
    {
     "data": {
      "application/vnd.jupyter.widget-view+json": {
       "model_id": "b041d3872dd64afdaa387756c0016765",
       "version_major": 2,
       "version_minor": 0
      },
      "text/plain": [
       "  0%|          | 0/10 [00:00<?, ?it/s]"
      ]
     },
     "metadata": {},
     "output_type": "display_data"
    },
    {
     "data": {
      "application/vnd.jupyter.widget-view+json": {
       "model_id": "207d902da07d42c38eba72748b743ac4",
       "version_major": 2,
       "version_minor": 0
      },
      "text/plain": [
       "  0%|          | 0/20 [00:00<?, ?it/s]"
      ]
     },
     "metadata": {},
     "output_type": "display_data"
    },
    {
     "data": {
      "application/vnd.jupyter.widget-view+json": {
       "model_id": "370b786281284a59b8dad520e87cad04",
       "version_major": 2,
       "version_minor": 0
      },
      "text/plain": [
       "  0%|          | 0/20 [00:00<?, ?it/s]"
      ]
     },
     "metadata": {},
     "output_type": "display_data"
    },
    {
     "data": {
      "application/vnd.jupyter.widget-view+json": {
       "model_id": "cf2c9860f4344cd3aded4aead02ea9e4",
       "version_major": 2,
       "version_minor": 0
      },
      "text/plain": [
       "  0%|          | 0/20 [00:00<?, ?it/s]"
      ]
     },
     "metadata": {},
     "output_type": "display_data"
    },
    {
     "data": {
      "application/vnd.jupyter.widget-view+json": {
       "model_id": "d5ca82f724434abb8a2a59af9ff6178b",
       "version_major": 2,
       "version_minor": 0
      },
      "text/plain": [
       "  0%|          | 0/20 [00:00<?, ?it/s]"
      ]
     },
     "metadata": {},
     "output_type": "display_data"
    },
    {
     "data": {
      "application/vnd.jupyter.widget-view+json": {
       "model_id": "9d10ace663c34d3a9f2e317efdad1e12",
       "version_major": 2,
       "version_minor": 0
      },
      "text/plain": [
       "  0%|          | 0/20 [00:00<?, ?it/s]"
      ]
     },
     "metadata": {},
     "output_type": "display_data"
    },
    {
     "data": {
      "application/vnd.jupyter.widget-view+json": {
       "model_id": "a969da18eff144ec855d587392d834d4",
       "version_major": 2,
       "version_minor": 0
      },
      "text/plain": [
       "  0%|          | 0/20 [00:02<?, ?it/s]"
      ]
     },
     "metadata": {},
     "output_type": "display_data"
    },
    {
     "data": {
      "application/vnd.jupyter.widget-view+json": {
       "model_id": "a8332b41cf1544bc83164e69d205df79",
       "version_major": 2,
       "version_minor": 0
      },
      "text/plain": [
       "  0%|          | 0/20 [00:00<?, ?it/s]"
      ]
     },
     "metadata": {},
     "output_type": "display_data"
    },
    {
     "data": {
      "application/vnd.jupyter.widget-view+json": {
       "model_id": "8126763f987b46bf89c10632cbabb125",
       "version_major": 2,
       "version_minor": 0
      },
      "text/plain": [
       "  0%|          | 0/20 [00:00<?, ?it/s]"
      ]
     },
     "metadata": {},
     "output_type": "display_data"
    },
    {
     "data": {
      "application/vnd.jupyter.widget-view+json": {
       "model_id": "c4d4acf6eb20452993a90c3d76415cce",
       "version_major": 2,
       "version_minor": 0
      },
      "text/plain": [
       "  0%|          | 0/20 [00:00<?, ?it/s]"
      ]
     },
     "metadata": {},
     "output_type": "display_data"
    },
    {
     "data": {
      "application/vnd.jupyter.widget-view+json": {
       "model_id": "22f11d5fe44d4d72a5c9f03f911a9008",
       "version_major": 2,
       "version_minor": 0
      },
      "text/plain": [
       "  0%|          | 0/20 [00:00<?, ?it/s]"
      ]
     },
     "metadata": {},
     "output_type": "display_data"
    }
   ],
   "source": [
    "driver = webdriver.Chrome('chromedriver', options=options)\n",
    "year = []\n",
    "name = []\n",
    "reviewcontext = []\n",
    "for i in tqdm(range(0, 10)) : #페이지수\n",
    "    url = \"https://movie.naver.com/movie/sdb/browsing/bmovie.nhn?open=2010&page=%d\"%(i+1) #페이지 넘기기\n",
    "    driver.get(url)\n",
    "    y = driver.find_elements(By.XPATH,'//*[@id=\"old_content\"]/ul/li')\n",
    "    for j in tqdm(range(0,len(y))):  #0,20\n",
    "        try :\n",
    "            driver.find_element(By.XPATH,'//*[@id=\"old_content\"]/ul/li[%d]/a'%(j+1)).click()#영화 선택\n",
    "            time.sleep(0.5)\n",
    "            driver.find_element(By.XPATH,'//*[@id=\"movieEndTabMenu\"]/li/a[@class=\"tab06 off\"]').click()#리뷰 메뉴 선택\n",
    "            time.sleep(0.5)\n",
    "            x = driver.find_elements(By.XPATH,'//*[@id=\"reviewTab\"]/div/div/ul/li') #리뷰 메뉴 개수\n",
    "            for k in range(0,len(x)) :\n",
    "                if len(x) == 0 :\n",
    "                    pass\n",
    "                try :\n",
    "                    driver.find_element(By.XPATH,'//*[@id=\"reviewTab\"]/div/div/ul/li[%d]/a'%(k+1)).click() #리뷰탭\n",
    "                except ElementNotInteractableException :\n",
    "                    driver.get(url)\n",
    "                time.sleep(0.5)\n",
    "                a = driver.find_element(By.XPATH,'//*[@id=\"content\"]/div/div[2]/div[1]/h3/a').text #영화이름\n",
    "                c = driver.find_element(By.XPATH,'//*[@id=\"content\"]/div[1]/div[4]/div[1]/div[4]').text #리뷰내용\n",
    "                name.append(a)\n",
    "                c = c.replace('\\n', '')\n",
    "                reviewcontext.append(c)\n",
    "                time.sleep(0.5)\n",
    "                driver.back()\n",
    "        except NoSuchElementException :\n",
    "            driver.get(url)"
   ]
  },
  {
   "cell_type": "code",
   "execution_count": 7,
   "metadata": {},
   "outputs": [],
   "source": [
    "movie2010 = pd.DataFrame(columns = ['year', 'name', 'reviewcontext'])\n",
    "movie2010['name'] = name\n",
    "movie2010['reviewcontext'] = reviewcontext\n",
    "movie2010['year'] = 2010\n"
   ]
  },
  {
   "cell_type": "code",
   "execution_count": 9,
   "metadata": {},
   "outputs": [
    {
     "data": {
      "text/html": [
       "<div>\n",
       "<style scoped>\n",
       "    .dataframe tbody tr th:only-of-type {\n",
       "        vertical-align: middle;\n",
       "    }\n",
       "\n",
       "    .dataframe tbody tr th {\n",
       "        vertical-align: top;\n",
       "    }\n",
       "\n",
       "    .dataframe thead th {\n",
       "        text-align: right;\n",
       "    }\n",
       "</style>\n",
       "<table border=\"1\" class=\"dataframe\">\n",
       "  <thead>\n",
       "    <tr style=\"text-align: right;\">\n",
       "      <th></th>\n",
       "      <th>year</th>\n",
       "      <th>name</th>\n",
       "      <th>reviewcontext</th>\n",
       "    </tr>\n",
       "  </thead>\n",
       "  <tbody>\n",
       "    <tr>\n",
       "      <th>0</th>\n",
       "      <td>2010</td>\n",
       "      <td>22 블렛</td>\n",
       "      <td>실화를 바탕으로 한 영화  &lt;22블렛, 22Bullets&gt;은 1977년 프랑...</td>\n",
       "    </tr>\n",
       "    <tr>\n",
       "      <th>1</th>\n",
       "      <td>2010</td>\n",
       "      <td>22 블렛</td>\n",
       "      <td>퍼블릭 에니미가 너무 재미없어서  별로 기대하지않고 본 22블렛  하지만 퍼...</td>\n",
       "    </tr>\n",
       "    <tr>\n",
       "      <th>2</th>\n",
       "      <td>2010</td>\n",
       "      <td>22 블렛</td>\n",
       "      <td>10월12일 \"22블렛\"은퇴를 꿈꾸는 마피아 대부 찰리 하지만 마피아에게 은퇴란...</td>\n",
       "    </tr>\n",
       "    <tr>\n",
       "      <th>3</th>\n",
       "      <td>2010</td>\n",
       "      <td>22 블렛</td>\n",
       "      <td>22 블렛감독리샤드 베리출연장 르노, 카 므라평점리뷰보기    눈이 부시게 황홀했던...</td>\n",
       "    </tr>\n",
       "    <tr>\n",
       "      <th>4</th>\n",
       "      <td>2010</td>\n",
       "      <td>22 블렛</td>\n",
       "      <td>화끈한 액션은 없다. 밋밋하다고 할 수도 있다.그런데 리얼하다. 실화를 바탕으로...</td>\n",
       "    </tr>\n",
       "    <tr>\n",
       "      <th>...</th>\n",
       "      <td>...</td>\n",
       "      <td>...</td>\n",
       "      <td>...</td>\n",
       "    </tr>\n",
       "    <tr>\n",
       "      <th>745</th>\n",
       "      <td>2010</td>\n",
       "      <td>바흐 이전의 침묵</td>\n",
       "      <td>바흐는 흐르는 시냇물이란 뜻이란다.이름처럼 그는 음악의 기초가 되는 시냇물이 되...</td>\n",
       "    </tr>\n",
       "    <tr>\n",
       "      <th>746</th>\n",
       "      <td>2010</td>\n",
       "      <td>바흐 이전의 침묵</td>\n",
       "      <td>바흐 이전의 침묵감독페레 포르타벨라출연크리스티안 아타나시우, 페오도르 아킨개봉200...</td>\n",
       "    </tr>\n",
       "    <tr>\n",
       "      <th>747</th>\n",
       "      <td>2010</td>\n",
       "      <td>바흐 이전의 침묵</td>\n",
       "      <td>바흐 이전의 침묵감독 페레 포르타벨라 출연 크리스티안 아타나시우, 페...</td>\n",
       "    </tr>\n",
       "    <tr>\n",
       "      <th>748</th>\n",
       "      <td>2010</td>\n",
       "      <td>바흐 이전의 침묵</td>\n",
       "      <td>음악의 본질을 영상으로 엮어낸 탈은폐의 영화 &lt;바흐 이전의 침묵&gt;  영화가 시작하면...</td>\n",
       "    </tr>\n",
       "    <tr>\n",
       "      <th>749</th>\n",
       "      <td>2010</td>\n",
       "      <td>바흐 이전의 침묵</td>\n",
       "      <td>클래식 음악을 소재로 한 영화를 좋아한다.영화 음악에 클래식곡이 많으면 좋아한다.다...</td>\n",
       "    </tr>\n",
       "  </tbody>\n",
       "</table>\n",
       "<p>750 rows × 3 columns</p>\n",
       "</div>"
      ],
      "text/plain": [
       "     year       name                                      reviewcontext\n",
       "0    2010      22 블렛      실화를 바탕으로 한 영화  <22블렛, 22Bullets>은 1977년 프랑...\n",
       "1    2010      22 블렛      퍼블릭 에니미가 너무 재미없어서  별로 기대하지않고 본 22블렛  하지만 퍼...\n",
       "2    2010      22 블렛    10월12일 \"22블렛\"은퇴를 꿈꾸는 마피아 대부 찰리 하지만 마피아에게 은퇴란...\n",
       "3    2010      22 블렛  22 블렛감독리샤드 베리출연장 르노, 카 므라평점리뷰보기    눈이 부시게 황홀했던...\n",
       "4    2010      22 블렛    화끈한 액션은 없다. 밋밋하다고 할 수도 있다.그런데 리얼하다. 실화를 바탕으로...\n",
       "..    ...        ...                                                ...\n",
       "745  2010  바흐 이전의 침묵    바흐는 흐르는 시냇물이란 뜻이란다.이름처럼 그는 음악의 기초가 되는 시냇물이 되...\n",
       "746  2010  바흐 이전의 침묵  바흐 이전의 침묵감독페레 포르타벨라출연크리스티안 아타나시우, 페오도르 아킨개봉200...\n",
       "747  2010  바흐 이전의 침묵          바흐 이전의 침묵감독 페레 포르타벨라 출연 크리스티안 아타나시우, 페...\n",
       "748  2010  바흐 이전의 침묵  음악의 본질을 영상으로 엮어낸 탈은폐의 영화 <바흐 이전의 침묵>  영화가 시작하면...\n",
       "749  2010  바흐 이전의 침묵  클래식 음악을 소재로 한 영화를 좋아한다.영화 음악에 클래식곡이 많으면 좋아한다.다...\n",
       "\n",
       "[750 rows x 3 columns]"
      ]
     },
     "execution_count": 9,
     "metadata": {},
     "output_type": "execute_result"
    }
   ],
   "source": [
    "movie2010"
   ]
  },
  {
   "cell_type": "code",
   "execution_count": 10,
   "metadata": {},
   "outputs": [],
   "source": [
    "movie2010.to_csv('movie2019.csv', encoding='utf-8-sig', index = False)"
   ]
  }
 ],
 "metadata": {
  "kernelspec": {
   "display_name": "Python 3.8.13 ('project')",
   "language": "python",
   "name": "python3"
  },
  "language_info": {
   "codemirror_mode": {
    "name": "ipython",
    "version": 3
   },
   "file_extension": ".py",
   "mimetype": "text/x-python",
   "name": "python",
   "nbconvert_exporter": "python",
   "pygments_lexer": "ipython3",
   "version": "3.8.13"
  },
  "orig_nbformat": 4,
  "vscode": {
   "interpreter": {
    "hash": "6d45daeee59fb3705ff01840971539ca16ddfd4edcb4ef7ddbe9b5ad4c5e7a09"
   }
  }
 },
 "nbformat": 4,
 "nbformat_minor": 2
}
