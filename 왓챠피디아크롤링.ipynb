{
 "cells": [
  {
   "cell_type": "code",
   "execution_count": 19,
   "metadata": {},
   "outputs": [],
   "source": [
    "from selenium import webdriver\n",
    "from bs4 import BeautifulSoup\n",
    "from urllib.request import Request, urlopen\n",
    "from selenium.webdriver.common.keys import Keys\n",
    "import html5lib\n",
    "import time\n",
    "from tqdm.notebook import tqdm\n",
    "from selenium.common.exceptions import NoSuchElementException"
   ]
  },
  {
   "cell_type": "code",
   "execution_count": 20,
   "metadata": {},
   "outputs": [],
   "source": [
    "# options = webdriver.ChromeOptions()\n",
    "# options.add_argument('headless')    # 웹 브라우저를 띄우지 않는 headless chrome 옵션 적용\n",
    "# options.add_argument('disable-gpu')    # GPU 사용 안함\n",
    "# options.add_argument('lang=ko_KR')    # 언어 설정, options=options\n",
    "# driver = webdriver.Chrome('chromedriver', options=options)"
   ]
  },
  {
   "cell_type": "code",
   "execution_count": 21,
   "metadata": {},
   "outputs": [],
   "source": [
    "#제목 검색을 위한 리스트 가져오기 \n",
    "# data = pd.read_excel(\"moviedata.xlsx\")\n",
    "# inp = data[\"영화명\"]\n",
    "# inp"
   ]
  },
  {
   "cell_type": "code",
   "execution_count": 22,
   "metadata": {},
   "outputs": [],
   "source": [
    "# for i in range(0, len(inp), 200):\n",
    "#     movie_list_1 = []\n",
    "#     movie_list_1 = inp[i:i+200]\n",
    "#     movie_list_1.to_csv('movie_%d.csv' %i,index = False)"
   ]
  },
  {
   "cell_type": "markdown",
   "metadata": {},
   "source": [
    "<h2>크롤링</h2>\n",
    "----------------------------\n",
    "영화 자른걸로 나눠서 작성했지만, 예시 두 개만 남김\n"
   ]
  },
  {
   "cell_type": "code",
   "execution_count": 23,
   "metadata": {
    "tags": []
   },
   "outputs": [
    {
     "output_type": "display_data",
     "data": {
      "text/plain": "HBox(children=(FloatProgress(value=0.0, max=200.0), HTML(value='')))",
      "application/vnd.jupyter.widget-view+json": {
       "version_major": 2,
       "version_minor": 0,
       "model_id": "39e6ca5ee01a48b98560b76cea2b6be7"
      }
     },
     "metadata": {}
    },
    {
     "output_type": "stream",
     "name": "stdout",
     "text": "\n"
    }
   ],
   "source": [
    "name =pd.read_csv(\"movielist/movie_0.csv\")\n",
    "inp =name[\"영화명\"]\n",
    "inp\n",
    "\n",
    "driver = webdriver.Chrome('chromedriver')\n",
    "driver.get(\"https://pedia.watcha.com/ko-KR\")\n",
    "driver.implicitly_wait(4)\n",
    "result ={}\n",
    "for title in tqdm(inp):\n",
    "    #제목 검색\n",
    "    elem = driver.find_element_by_id('global_search_input')\n",
    "    elem.send_keys(title)\n",
    "    elem.send_keys(Keys.RETURN)\n",
    "    driver.implicitly_wait(3)\n",
    "    b =[]\n",
    "    try:\n",
    "        #영화선택\n",
    "        driver.find_element_by_xpath('//*[@id=\"root\"]/div/div[1]/section/section/section[1]/div[2]/div[1]/div/div/div/ul/li/a').click()\n",
    "        #더보기\n",
    "        Url=driver.current_url+\"/comments\"\n",
    "        driver.get(Url)\n",
    "        time.sleep(0.5)\n",
    "        #스크롤\n",
    "        driver.execute_script(\"window.scrollTo(0, 2000)\")\n",
    "        time.sleep(0.5)\n",
    "        driver.execute_script(\"window.scrollTo(2000, 4000)\")\n",
    "        time.sleep(0.5)\n",
    "        driver.execute_script(\"window.scrollTo(4000, 6000)\")\n",
    "        time.sleep(0.5)\n",
    "        #코멘트 읽기\n",
    "        x = driver.find_elements_by_xpath('//*[@id=\"root\"]/div/div[1]/section/section/div/div/div/ul/div')\n",
    "        for i in range(0,len(x)-2) :\n",
    "            a = driver.find_element_by_css_selector('#root > div > div.css-1sh3zvx-NavContainer.ebsyszu0 > section > section > div > div > div > ul > div:nth-child(%d) > div.css-103yoki-TextBlock.e1oskw6f3 > div'%(i+1)).text\n",
    "            a = a.replace('\\n','')\n",
    "            a = a.replace('#','')\n",
    "            b.append(a)\n",
    "\n",
    "        result[title]=b\n",
    "        driver.get(\"https://pedia.watcha.com/ko-KR\")\n",
    "    except NoSuchElementException:\n",
    "        driver.get(\"https://pedia.watcha.com/ko-KR\")\n",
    "\n",
    "df = pd.DataFrame(result.items(), columns = ['movie_id' , 'reviews'])\n",
    "df.to_csv('result_1.csv', index =False, encoding=\"UTF-8-sig\")"
   ]
  },
  {
   "cell_type": "code",
   "execution_count": 32,
   "metadata": {
    "tags": []
   },
   "outputs": [
    {
     "output_type": "display_data",
     "data": {
      "text/plain": "HBox(children=(FloatProgress(value=0.0, max=1399.0), HTML(value='')))",
      "application/vnd.jupyter.widget-view+json": {
       "version_major": 2,
       "version_minor": 0,
       "model_id": "e73137113b7b4b09ada7c18e29ae03c1"
      }
     },
     "metadata": {}
    },
    {
     "output_type": "stream",
     "name": "stdout",
     "text": "\n"
    }
   ],
   "source": [
    "name =pd.read_excel(\"movielist/moviedata.xlsx\")\n",
    "inp =name[\"영화명\"]\n",
    "inp2 = inp[1601:3000]\n",
    "inp2\n",
    "\n",
    "driver = webdriver.Chrome('chromedriver')\n",
    "driver.get(\"https://pedia.watcha.com/ko-KR\")\n",
    "driver.implicitly_wait(4)\n",
    "result ={}\n",
    "for title in tqdm(inp2):\n",
    "    #제목 검색\n",
    "    elem = driver.find_element_by_id('global_search_input')\n",
    "    elem.send_keys(title)\n",
    "    elem.send_keys(Keys.RETURN)\n",
    "    driver.implicitly_wait(3)\n",
    "    b =[]\n",
    "    try:\n",
    "        #영화선택\n",
    "        driver.find_element_by_xpath('//*[@id=\"root\"]/div/div[1]/section/section/section[1]/div[2]/div[1]/div/div/div/ul/li/a').click()\n",
    "        #더보기\n",
    "        Url=driver.current_url+\"/comments\"\n",
    "        driver.get(Url)\n",
    "        time.sleep(0.5)\n",
    "        #스크롤\n",
    "        driver.execute_script(\"window.scrollTo(0, 2000)\")\n",
    "        time.sleep(0.5)\n",
    "        driver.execute_script(\"window.scrollTo(2000, 4000)\")\n",
    "        time.sleep(0.5)\n",
    "        driver.execute_script(\"window.scrollTo(4000, 6000)\")\n",
    "        time.sleep(0.5)\n",
    "        #코멘트 읽기\n",
    "        x = driver.find_elements_by_xpath('//*[@id=\"root\"]/div/div[1]/section/section/div/div/div/ul/div')\n",
    "        for i in range(0,len(x)-2) :\n",
    "            a = driver.find_element_by_css_selector('#root > div > div.css-1sh3zvx-NavContainer.ebsyszu0 > section > section > div > div > div > ul > div:nth-child(%d) > div.css-103yoki-TextBlock.e1oskw6f3 > div'%(i+1)).text\n",
    "            a = a.replace('\\n','')\n",
    "            a = a.replace('#','')\n",
    "            b.append(a)\n",
    "\n",
    "        result[title]=b\n",
    "        driver.get(\"https://pedia.watcha.com/ko-KR\")\n",
    "    except NoSuchElementException:\n",
    "        driver.get(\"https://pedia.watcha.com/ko-KR\")\n",
    "\n",
    "df = pd.DataFrame(result.items(), columns = ['movie_id' , 'reviews'])\n",
    "df.to_csv('result_1601.csv', index =False, encoding=\"UTF-8-sig\")\n",
    "\n",
    "driver.close()"
   ]
  },
  {
   "cell_type": "code",
   "execution_count": null,
   "metadata": {},
   "outputs": [],
   "source": []
  },
  {
   "cell_type": "markdown",
   "metadata": {},
   "source": [
    "<h2>이밑은 테스트 "
   ]
  },
  {
   "cell_type": "code",
   "execution_count": 35,
   "metadata": {},
   "outputs": [],
   "source": [
    "# df = pd.DataFrame(result.items(), columns = ['movie_id' , 'reviews'])\n",
    "# df.to_csv('result_8.csv', index =False, encoding=\"UTF-8-sig\")\n"
   ]
  },
  {
   "cell_type": "code",
   "execution_count": 36,
   "metadata": {},
   "outputs": [],
   "source": [
    "# driver = webdriver.Chrome('chromedriver')\n",
    "# driver.get(\"https://pedia.watcha.com/ko-KR\")\n",
    "# driver.implicitly_wait(4)\n",
    "# #제목 검색\n",
    "# elem = driver.find_element_by_id('global_search_input')\n",
    "# elem.send_keys(\"카오산 탱고\")\n",
    "# elem.send_keys(Keys.RETURN)\n",
    "# driver.implicitly_wait(3)\n",
    "# b =[]\n",
    "# try:\n",
    "#     #영화선택\n",
    "#     driver.find_element_by_xpath('//*[@id=\"root\"]/div/div[1]/section/section/section[1]/div[2]/div[1]/div/div/div/ul/li/a').click()\n",
    "#     #더보기\n",
    "#     Url=driver.current_url+\"/comments\"\n",
    "#     driver.get(Url)\n",
    "#     time.sleep(0.5)\n",
    "#     #스크롤\n",
    "#     driver.execute_script(\"window.scrollTo(0, 2000)\")\n",
    "#     time.sleep(0.5)\n",
    "#     driver.execute_script(\"window.scrollTo(2000, 4000)\")\n",
    "#     time.sleep(0.5)\n",
    "#     driver.execute_script(\"window.scrollTo(4000, 6000)\")\n",
    "#     time.sleep(0.5)\n",
    "#     #코멘트 읽기\n",
    "#     x = driver.find_elements_by_xpath('//*[@id=\"root\"]/div/div[1]/section/section/div/div/div/ul/div')\n",
    "#     for i in range(0,len(x)-2) :\n",
    "#         a = driver.find_element_by_css_selector('#root > div > div.css-1sh3zvx-NavContainer.ebsyszu0 > section > section > div > div > div > ul > div:nth-child(%d) > div.css-103yoki-TextBlock.e1oskw6f3 > div'%(i+1)).text\n",
    "\n",
    "# #root > div > div.css-1sh3zvx-NavContainer.ebsyszu0 > section > section > div > div > div > ul > div:nth-child(1) > div.css-103yoki-TextBlock.e1oskw6f3 > div\n",
    "# #root > div > div.css-1sh3zvx-NavContainer.ebsyszu0 > section > section > div > div > div > ul > div:nth-child(2) > div.css-103yoki-TextBlock.e1oskw6f3 > div\n",
    "\n",
    "#         a = a.replace('\\n','')\n",
    "#         a = a.replace('#','')\n",
    "#         b.append(a)\n",
    "#     driver.get(\"https://pedia.watcha.com/ko-KR\")\n",
    "# except NoSuchElementException:\n",
    "#     driver.get(\"https://pedia.watcha.com/ko-KR\")"
   ]
  },
  {
   "cell_type": "code",
   "execution_count": 37,
   "metadata": {},
   "outputs": [],
   "source": [
    "# b"
   ]
  }
 ],
 "metadata": {
  "language_info": {
   "codemirror_mode": {
    "name": "ipython",
    "version": 3
   },
   "file_extension": ".py",
   "mimetype": "text/x-python",
   "name": "python",
   "nbconvert_exporter": "python",
   "pygments_lexer": "ipython3",
   "version": 3
  },
  "orig_nbformat": 2,
  "kernelspec": {
   "name": "python_defaultSpec_1595324484224",
   "display_name": "Python 3.7.7 64-bit"
  }
 },
 "nbformat": 4,
 "nbformat_minor": 2
}
