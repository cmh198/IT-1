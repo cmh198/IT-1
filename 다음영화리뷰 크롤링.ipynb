{
 "cells": [
  {
   "cell_type": "code",
   "execution_count": 1,
   "metadata": {},
   "outputs": [],
   "source": [
    "from bs4 import BeautifulSoup\n",
    "import requests\n",
    "from selenium import webdriver\n",
    "import pandas as pd\n",
    "import numpy as np\n",
    "import html5lib\n",
    "from selenium.webdriver.common.keys import Keys\n",
    "import time\n",
    "from tqdm.notebook import tqdm\n",
    "from selenium.common.exceptions import NoSuchElementException"
   ]
  },
  {
   "cell_type": "code",
   "execution_count": 2,
   "metadata": {},
   "outputs": [],
   "source": [
    "movie_list = pd.read_excel('moviedata2.xlsx', parse_dates=['개봉일'])"
   ]
  },
  {
   "cell_type": "code",
   "execution_count": 4,
   "metadata": {
    "tags": []
   },
   "outputs": [
    {
     "output_type": "error",
     "ename": "NameError",
     "evalue": "name 'movie_listlist' is not defined",
     "traceback": [
      "\u001b[1;31m---------------------------------------------------------------------------\u001b[0m",
      "\u001b[1;31mNameError\u001b[0m                                 Traceback (most recent call last)",
      "\u001b[1;32m<ipython-input-4-ad1cd382fe10>\u001b[0m in \u001b[0;36m<module>\u001b[1;34m\u001b[0m\n\u001b[0;32m      5\u001b[0m \u001b[1;33m\u001b[0m\u001b[0m\n\u001b[0;32m      6\u001b[0m \u001b[1;33m\u001b[0m\u001b[0m\n\u001b[1;32m----> 7\u001b[1;33m     \u001b[1;32mfor\u001b[0m \u001b[0mtitle\u001b[0m \u001b[1;32min\u001b[0m \u001b[0mtqdm\u001b[0m\u001b[1;33m(\u001b[0m\u001b[0mmovie_listlist\u001b[0m\u001b[1;33m[\u001b[0m\u001b[1;34m'영화명'\u001b[0m\u001b[1;33m]\u001b[0m\u001b[1;33m)\u001b[0m\u001b[1;33m:\u001b[0m\u001b[1;33m\u001b[0m\u001b[1;33m\u001b[0m\u001b[0m\n\u001b[0m\u001b[0;32m      8\u001b[0m \u001b[1;33m\u001b[0m\u001b[0m\n\u001b[0;32m      9\u001b[0m         \u001b[0moptions\u001b[0m \u001b[1;33m=\u001b[0m \u001b[0mwebdriver\u001b[0m\u001b[1;33m.\u001b[0m\u001b[0mChromeOptions\u001b[0m\u001b[1;33m(\u001b[0m\u001b[1;33m)\u001b[0m\u001b[1;33m\u001b[0m\u001b[1;33m\u001b[0m\u001b[0m\n",
      "\u001b[1;31mNameError\u001b[0m: name 'movie_listlist' is not defined"
     ]
    }
   ],
   "source": [
    "for j in range(950, 1501, 50):\n",
    "    \n",
    "    movie_list = pd.read_csv('movies/movie_%d.csv' %j)\n",
    "    result = {}\n",
    "\n",
    "\n",
    "    for title in tqdm(movie_list['영화명']):\n",
    "\n",
    "        options = webdriver.ChromeOptions()\n",
    "        options.add_argument('headless')    # 웹 브라우저를 띄우지 않는 headless chrome 옵션 적용\n",
    "        options.add_argument('disable-gpu')    # GPU 사용 안함\n",
    "        options.add_argument('lang=ko_KR')    # 언어 설정, options=options\n",
    "        driver = webdriver.Chrome('chromedriver', options = options)\n",
    "        driver.implicitly_wait(3)\n",
    "        driver.get('https://www.daum.net/')\n",
    "        driver.find_element_by_id('q').send_keys(title)\n",
    "        driver.find_element_by_id('q').send_keys(Keys.RETURN)\n",
    "\n",
    "        try:\n",
    "            driver.find_element_by_xpath('//*[@id=\"movieMoreBtn\"]').click()\n",
    "        \n",
    "            # time.sleep(1)\n",
    "            # 새로운 탭으로 초점을 전환\n",
    "            driver.switch_to_window(driver.window_handles[1])\n",
    "            base_url = driver.current_url\n",
    "            \n",
    "            review_list = []\n",
    "            for i in range(0, 10):\n",
    "                time.sleep(1)\n",
    "                an_url = '&type=netizen&page=%d' %(i+1)\n",
    "                url = base_url +an_url\n",
    "\n",
    "                res = requests.get(url)\n",
    "                soup =  BeautifulSoup(res.text, 'html.parser')\n",
    "                reviews = soup.find_all('p', {'class':'desc_review'})\n",
    "                # print(reviews)\n",
    "\n",
    "                for review in reviews :\n",
    "                    review_list.append(review.get_text().strip())\n",
    "\n",
    "            result[title] = review_list\n",
    "            driver.close()\n",
    "            driver.switch_to_window(driver.window_handles[0])\n",
    "            driver.close()\n",
    "            \n",
    "        except NoSuchElementException:\n",
    "            driver.close()\n",
    "\n",
    "\n",
    "    from pandas import DataFrame\n",
    "\n",
    "    df = DataFrame(result.items(), columns = ['movie_id' , 'reviews'])\n",
    "    df.to_csv('reviews/result_%d.csv' %(j/50), index =False, encoding='utf-8-sig') "
   ]
  }
 ],
 "metadata": {
  "language_info": {
   "codemirror_mode": {
    "name": "ipython",
    "version": 3
   },
   "file_extension": ".py",
   "mimetype": "text/x-python",
   "name": "python",
   "nbconvert_exporter": "python",
   "pygments_lexer": "ipython3",
   "version": 3
  },
  "orig_nbformat": 2,
  "kernelspec": {
   "name": "python_defaultSpec_1595314798919",
   "display_name": "Python 3.7.7 64-bit"
  }
 },
 "nbformat": 4,
 "nbformat_minor": 2
}