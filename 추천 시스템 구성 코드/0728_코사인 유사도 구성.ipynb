{
 "metadata": {
  "language_info": {
   "codemirror_mode": {
    "name": "ipython",
    "version": 3
   },
   "file_extension": ".py",
   "mimetype": "text/x-python",
   "name": "python",
   "nbconvert_exporter": "python",
   "pygments_lexer": "ipython3",
   "version": 3
  },
  "orig_nbformat": 2,
  "kernelspec": {
   "name": "python_defaultSpec_1596003938981",
   "display_name": "Python 3.7.7 64-bit"
  }
 },
 "nbformat": 4,
 "nbformat_minor": 2,
 "cells": [
  {
   "cell_type": "markdown",
   "metadata": {},
   "source": [
    "# 필요 라이브러리 import"
   ]
  },
  {
   "cell_type": "code",
   "execution_count": 4,
   "metadata": {},
   "outputs": [],
   "source": [
    "import numpy as np\n",
    "import pandas as pd\n",
    "import os\n",
    "import matplotlib.pyplot as plt\n",
    "import seaborn as sns \n",
    "from wordcloud import wordcloud\n",
    "%matplotlib inline\n",
    "import pickle"
   ]
  },
  {
   "cell_type": "markdown",
   "metadata": {},
   "source": [
    "# 딕셔너리 형 데이터 불러오기 & 처리"
   ]
  },
  {
   "cell_type": "code",
   "execution_count": 5,
   "metadata": {},
   "outputs": [],
   "source": [
    "# load\n",
    "with open('movie_dict.pickle', 'rb') as f:\n",
    "    movie_dict = pickle.load(f)"
   ]
  },
  {
   "cell_type": "code",
   "execution_count": 9,
   "metadata": {},
   "outputs": [],
   "source": [
    "# 딕셔너리를 데이터 프레임화 하기\n",
    "df = pd.DataFrame(list(movie_dict.items()),columns = ['title','review'])  "
   ]
  },
  {
   "cell_type": "code",
   "execution_count": 10,
   "metadata": {},
   "outputs": [],
   "source": [
    "# tf-idf 행렬만들기\n",
    "from sklearn.feature_extraction.text import TfidfVectorizer\n",
    "tfidf = TfidfVectorizer()\n",
    "tfidf_matrix = tfidf.fit_transform(df.review)"
   ]
  },
  {
   "cell_type": "code",
   "execution_count": 14,
   "metadata": {},
   "outputs": [
    {
     "output_type": "execute_result",
     "data": {
      "text/plain": "(7633, 55835)"
     },
     "metadata": {},
     "execution_count": 14
    }
   ],
   "source": [
    "tfidf_matrix.shape # shape 확인"
   ]
  },
  {
   "cell_type": "markdown",
   "metadata": {},
   "source": [
    "# 코사인 유사도 만들기"
   ]
  },
  {
   "cell_type": "code",
   "execution_count": 17,
   "metadata": {},
   "outputs": [
    {
     "output_type": "execute_result",
     "data": {
      "text/plain": "array([1.        , 0.04777547, 0.03308296, ..., 0.02898799, 0.07744398,\n       0.0289003 ])"
     },
     "metadata": {},
     "execution_count": 17
    }
   ],
   "source": [
    "from sklearn.metrics.pairwise import linear_kernel\n",
    "cosine_sim = linear_kernel(tfidf_matrix, tfidf_matrix)"
   ]
  },
  {
   "cell_type": "markdown",
   "metadata": {},
   "source": [
    "# 영화이름을 인덱스로 만들기"
   ]
  },
  {
   "cell_type": "code",
   "execution_count": 18,
   "metadata": {
    "tags": []
   },
   "outputs": [
    {
     "output_type": "stream",
     "name": "stdout",
     "text": "title\n카오산 탱고            0\n욕창                1\n바다로 가자            2\n국도극장              3\n레미: 집 없는 아이       4\n               ... \n미트 페어런츠        7628\n쥬브나일           7629\n게임오버           7630\n이유없는 반항        7631\n천사의 시          7632\nLength: 7633, dtype: int64\n"
    }
   ],
   "source": [
    "indices = pd.Series(df.index, index = df.title) # 영화 제목으로 인덱스만들기\n",
    "print(indices) "
   ]
  },
  {
   "cell_type": "markdown",
   "metadata": {},
   "source": [
    "# 코사인 유사도 기반 영화 추천시스템 만들기"
   ]
  },
  {
   "cell_type": "code",
   "execution_count": 55,
   "metadata": {},
   "outputs": [],
   "source": [
    "def movie_Recommendation(title, cosine_sim=cosine_sim):\n",
    "    \n",
    "    idx = indices[title]\n",
    "\n",
    "    # 모든 영화에 대해서 해당 영화와의 유사도를 구하기\n",
    "    sim_scores = list(enumerate(cosine_sim[idx]))\n",
    "    sim_scores = sorted(sim_scores, key=lambda x:x[1], reverse = True) # score 순으로 정렬\n",
    "\n",
    "    sim_scores = sim_scores[1:11] # 가장 유사한 10개의 영화를 받아옴\n",
    "    movie_indices = [i[0] for i in sim_scores] # 인덱스 받아오기\n",
    "    \n",
    "    result_df = df.iloc[movie_indices].copy()  #기존에 읽어들인 데이터에서 해당 인덱스의 값을 가져오기 스코어 열을 추가\n",
    "    result_df['score'] = [i[1] for i in sim_scores]\n",
    "    \n",
    "    # 가장 유사한 10개의 영화의 제목을 리턴\n",
    "    return result_df\n"
   ]
  },
  {
   "cell_type": "markdown",
   "metadata": {},
   "source": [
    "# 추천시스템 성능확인"
   ]
  },
  {
   "cell_type": "code",
   "execution_count": 66,
   "metadata": {},
   "outputs": [
    {
     "output_type": "execute_result",
     "data": {
      "text/plain": "            title                                             review     score\n4327          아무르  노인 영 추천 하다 없다 신기하다 일이 아무렇다 않다 대 터지다 나오다사랑 스며들다...  0.116228\n3664          셔틀콕  남동생 가 셔틀콕 생각 하다 주다 가기 성가시다 줍다 존재 완벽하다 이 여운 있다 ...  0.112742\n1012         봄이가도  의도 알다 자기 먹 여성 도움 필요하다 남성 클리셰 보고 싶다 다만 단편 트라우마 ...  0.112741\n5578      걸어도 걸어도  살다 영 보다 복 걸다 좁다 않다 어도 늦다 되다 그렇다 노래 부르다 부산 놀다 가...  0.111792\n57    애프터 웨딩 인 뉴욕  하나 특별하다 상상 하다 만큼 보여주다 이야기 이끌다 나가다 중심 되어다 인물 잘못...  0.106123\n4189        송 포 유  뻔하다 내용 알다 감동 받다 울다 사실 저런 이야기 않다 이제 만나다 사람 추천 주...  0.104894\n4782  씨민과 나데르의 별거  티끌 만들다 태산 가족 이름 벌이다 이기심 정직하다 하다 좋다 감독 사 족하 이면 ...  0.103452\n304         니나 내나  살다보면 사정 저런 많다 연속 살아가다 사람 하다 가정 소소하다 특별하다 이야기 니...  0.103300\n6196           아들  카메라 인물 마음 하나 되다 기적 같다 순간 도대체 누가 용서 구원 받다 섣부르다 ...  0.103123\n925    친애하는 우리 아이  사정 각자 달라 여전하다 가족 있다 국내 개봉 하다 좋다 다시 보다 이유 기분 물어...  0.102859",
      "text/html": "<div>\n<style scoped>\n    .dataframe tbody tr th:only-of-type {\n        vertical-align: middle;\n    }\n\n    .dataframe tbody tr th {\n        vertical-align: top;\n    }\n\n    .dataframe thead th {\n        text-align: right;\n    }\n</style>\n<table border=\"1\" class=\"dataframe\">\n  <thead>\n    <tr style=\"text-align: right;\">\n      <th></th>\n      <th>title</th>\n      <th>review</th>\n      <th>score</th>\n    </tr>\n  </thead>\n  <tbody>\n    <tr>\n      <th>4327</th>\n      <td>아무르</td>\n      <td>노인 영 추천 하다 없다 신기하다 일이 아무렇다 않다 대 터지다 나오다사랑 스며들다...</td>\n      <td>0.116228</td>\n    </tr>\n    <tr>\n      <th>3664</th>\n      <td>셔틀콕</td>\n      <td>남동생 가 셔틀콕 생각 하다 주다 가기 성가시다 줍다 존재 완벽하다 이 여운 있다 ...</td>\n      <td>0.112742</td>\n    </tr>\n    <tr>\n      <th>1012</th>\n      <td>봄이가도</td>\n      <td>의도 알다 자기 먹 여성 도움 필요하다 남성 클리셰 보고 싶다 다만 단편 트라우마 ...</td>\n      <td>0.112741</td>\n    </tr>\n    <tr>\n      <th>5578</th>\n      <td>걸어도 걸어도</td>\n      <td>살다 영 보다 복 걸다 좁다 않다 어도 늦다 되다 그렇다 노래 부르다 부산 놀다 가...</td>\n      <td>0.111792</td>\n    </tr>\n    <tr>\n      <th>57</th>\n      <td>애프터 웨딩 인 뉴욕</td>\n      <td>하나 특별하다 상상 하다 만큼 보여주다 이야기 이끌다 나가다 중심 되어다 인물 잘못...</td>\n      <td>0.106123</td>\n    </tr>\n    <tr>\n      <th>4189</th>\n      <td>송 포 유</td>\n      <td>뻔하다 내용 알다 감동 받다 울다 사실 저런 이야기 않다 이제 만나다 사람 추천 주...</td>\n      <td>0.104894</td>\n    </tr>\n    <tr>\n      <th>4782</th>\n      <td>씨민과 나데르의 별거</td>\n      <td>티끌 만들다 태산 가족 이름 벌이다 이기심 정직하다 하다 좋다 감독 사 족하 이면 ...</td>\n      <td>0.103452</td>\n    </tr>\n    <tr>\n      <th>304</th>\n      <td>니나 내나</td>\n      <td>살다보면 사정 저런 많다 연속 살아가다 사람 하다 가정 소소하다 특별하다 이야기 니...</td>\n      <td>0.103300</td>\n    </tr>\n    <tr>\n      <th>6196</th>\n      <td>아들</td>\n      <td>카메라 인물 마음 하나 되다 기적 같다 순간 도대체 누가 용서 구원 받다 섣부르다 ...</td>\n      <td>0.103123</td>\n    </tr>\n    <tr>\n      <th>925</th>\n      <td>친애하는 우리 아이</td>\n      <td>사정 각자 달라 여전하다 가족 있다 국내 개봉 하다 좋다 다시 보다 이유 기분 물어...</td>\n      <td>0.102859</td>\n    </tr>\n  </tbody>\n</table>\n</div>"
     },
     "metadata": {},
     "execution_count": 66
    }
   ],
   "source": [
    "movie_Recommendation('')"
   ]
  }
 ]
}