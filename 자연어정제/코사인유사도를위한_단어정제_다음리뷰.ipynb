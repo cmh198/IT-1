{
 "metadata": {
  "language_info": {
   "codemirror_mode": {
    "name": "ipython",
    "version": 3
   },
   "file_extension": ".py",
   "mimetype": "text/x-python",
   "name": "python",
   "nbconvert_exporter": "python",
   "pygments_lexer": "ipython3",
   "version": 3
  },
  "orig_nbformat": 2,
  "kernelspec": {
   "name": "python_defaultSpec_1595665638612",
   "display_name": "Python 3.7.7 64-bit"
  }
 },
 "nbformat": 4,
 "nbformat_minor": 2,
 "cells": [
  {
   "cell_type": "markdown",
   "metadata": {},
   "source": [
    "# 다음리뷰 : 정제된 단어 테이블에 저장"
   ]
  },
  {
   "cell_type": "code",
   "execution_count": 38,
   "metadata": {},
   "outputs": [],
   "source": [
    "import pandas as pd\n",
    "pd.set_option('display.max_row', 500)\n",
    "pd.set_option('display.max_columns', 100)\n",
    "import numpy as np\n",
    "import sys\n",
    "np.set_printoptions(threshold=sys.maxsize)\n",
    "from konlpy.tag import Okt # 옛날 Twitter 클래스\n",
    "from konlpy.tag import Kkma\n",
    "import re\n",
    "import time \n",
    "from tqdm.notebook import tqdm"
   ]
  },
  {
   "cell_type": "code",
   "execution_count": 32,
   "metadata": {},
   "outputs": [],
   "source": [
    "# 다음리뷰 불러오기\n",
    "\n",
    "daum = pd.read_csv(\"daum_reviews.csv\")\n",
    "daum_ = daum.loc[:,['순번','영화명','reviews']]\n",
    "daumwords = daum_['reviews'][3:50].sum()\n",
    "\n",
    "# 스탑워즈 불러오기\n",
    "\n",
    "df = pd.read_csv(\"stopwords726_7.txt\")\n",
    "stopwords = df.iloc[:,0].unique()"
   ]
  },
  {
   "cell_type": "code",
   "execution_count": null,
   "metadata": {},
   "outputs": [],
   "source": [
    "daum['word'] = 0\n",
    "for i in tqdm(range(0, len(daum))):\n",
    "    daumwords = daum_['reviews'][i]\n",
    "    letters_only = re.sub('[^0-9가-힣\\s\\.\\!\\?]*', '', daumwords)\n",
    "    # # 정제된 리뷰로 형태소 테이블 만들기\n",
    "    sampledf = pd.DataFrame(okt.pos(letters_only, norm=True, stem=True))\n",
    "    # print(sampledf[1])\n",
    "    # # 명사, 형용사, 동사만 추출하기\n",
    "    try:\n",
    "        sampledf = sampledf[(sampledf[1]=='Noun')|(sampledf[1]=='Adjective')|(sampledf[1]=='Verb')]\n",
    "        # # 2글자 이상인 단어만 가져와서 리스트 만들기\n",
    "        spword = []\n",
    "        for word in sampledf[0]:\n",
    "            if len(word)>=2:\n",
    "                if word not in (stopwords): # 스탑워즈 제외하고 출력하기\n",
    "                    spword.append(word)\n",
    "        # 영화별로 정제된 단어들을 리스트화해서 영화리뷰 테이블의 word컬럼에 담기\n",
    "        a = pd.DataFrame(spword)[0].unique()\n",
    "        daum['word'][i] = a\n",
    "    except KeyError:\n",
    "        daum['word'][i] = \"\""
   ]
  }
 ]
}